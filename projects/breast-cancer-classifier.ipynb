{
  "nbformat": 4,
  "nbformat_minor": 0,
  "metadata": {
    "colab": {
      "provenance": []
    },
    "kernelspec": {
      "name": "python3",
      "display_name": "Python 3"
    },
    "language_info": {
      "name": "python"
    }
  },
  "cells": [
    {
      "cell_type": "code",
      "execution_count": null,
      "metadata": {
        "colab": {
          "base_uri": "https://localhost:8080/"
        },
        "id": "0LuogsTNdo8Z",
        "outputId": "fe8b3576-33ce-4d56-e4a6-aea3387863ec"
      },
      "outputs": [
        {
          "output_type": "stream",
          "name": "stdout",
          "text": [
            "Model Accuracy: 0.9707602339181286\n",
            "\n",
            "Classification Report:\n",
            "               precision    recall  f1-score   support\n",
            "\n",
            "           0       0.98      0.94      0.96        63\n",
            "           1       0.96      0.99      0.98       108\n",
            "\n",
            "    accuracy                           0.97       171\n",
            "   macro avg       0.97      0.96      0.97       171\n",
            "weighted avg       0.97      0.97      0.97       171\n",
            "\n"
          ]
        }
      ],
      "source": [
        "# Breast Cancer Classifier - AIxGRC Aligned\n",
        "\n",
        "import pandas as pd\n",
        "import numpy as np\n",
        "from sklearn.datasets import load_breast_cancer\n",
        "from sklearn.model_selection import train_test_split\n",
        "from sklearn.ensemble import RandomForestClassifier\n",
        "from sklearn.metrics import accuracy_score, classification_report\n",
        "\n",
        "# Load dataset\n",
        "data = load_breast_cancer()\n",
        "X = pd.DataFrame(data.data, columns=data.feature_names)\n",
        "y = pd.Series(data.target)\n",
        "\n",
        "# Train/test split\n",
        "X_train, X_test, y_train, y_test = train_test_split(X, y, test_size=0.3, random_state=42)\n",
        "\n",
        "# Train model\n",
        "model = RandomForestClassifier(random_state=42)\n",
        "model.fit(X_train, y_train)\n",
        "\n",
        "# Predict and evaluate\n",
        "y_pred = model.predict(X_test)\n",
        "print(\"Model Accuracy:\", accuracy_score(y_test, y_pred))\n",
        "print(\"\\nClassification Report:\\n\", classification_report(y_test, y_pred))\n"
      ]
    },
    {
      "cell_type": "code",
      "source": [
        "# Explore class distribution (malignant vs. benign)\n",
        "\n",
        "print(\"Target labels: 0 = malignant, 1 = benign\\n\")\n",
        "print(\"Class distribution (raw count):\")\n",
        "print(y.value_counts())\n",
        "\n",
        "print(\"\\nClass distribution (percentages):\")\n",
        "print(y.value_counts(normalize=True) * 100)"
      ],
      "metadata": {
        "colab": {
          "base_uri": "https://localhost:8080/"
        },
        "id": "E2DfG7hfgAJ9",
        "outputId": "e9ca9407-885c-4c69-f2ae-d2b14783412b"
      },
      "execution_count": null,
      "outputs": [
        {
          "output_type": "stream",
          "name": "stdout",
          "text": [
            "Target labels: 0 = malignant, 1 = benign\n",
            "\n",
            "Class distribution (raw count):\n",
            "1    357\n",
            "0    212\n",
            "Name: count, dtype: int64\n",
            "\n",
            "Class distribution (percentages):\n",
            "1    62.741652\n",
            "0    37.258348\n",
            "Name: proportion, dtype: float64\n"
          ]
        }
      ]
    },
    {
      "cell_type": "code",
      "source": [
        "print(f\"\\nTotal samples: {len(y)}\")\n",
        "# Simple bar plot of class distribution\n",
        "import seaborn as sns\n",
        "import matplotlib.pyplot as plt\n",
        "\n",
        "sns.countplot(x=y.map({0: \"Malignant\", 1: \"Benign\"}))\n",
        "plt.title(\"Class Distribution of Breast Cancer Samples\")\n",
        "plt.ylabel(\"Count\")\n",
        "plt.xlabel(\"Tumor Type\")\n",
        "plt.show()\n"
      ],
      "metadata": {
        "colab": {
          "base_uri": "https://localhost:8080/",
          "height": 508
        },
        "id": "4I1ASwcAgCCi",
        "outputId": "5846ddb1-a6bf-446c-bc48-d1283c96b9a0"
      },
      "execution_count": null,
      "outputs": [
        {
          "output_type": "stream",
          "name": "stdout",
          "text": [
            "\n",
            "Total samples: 569\n"
          ]
        },
        {
          "output_type": "display_data",
          "data": {
            "text/plain": [
              "<Figure size 640x480 with 1 Axes>"
            ],
            "image/png": "[encoded data removed]"
          },
          "metadata": {}
        }
      ]
    },
    {
      "cell_type": "markdown",
      "source": [
        "# AI Risk Register: Breast Cancer Classifier (AIxGRC)\n",
        "\n",
        "| Risk ID | Description | Impact | Likelihood | Mitigation / Control |\n",
        "|---------|-------------|--------|------------|-----------------------|\n",
        "| R1 | Misclassification of malignant tumors as benign | High | Medium | Track recall for malignant class; add alerts around false negatives |\n",
        "| R2 | Overreliance on a few features (e.g., mean radius) | Medium | Medium | Feature importance plotted; retraining plan in place |\n",
        "| R3 | Dataset does not include patient demographic diversity (e.g., age, ethnicity) | High | Unknown | Add data notes and disclaimer; avoid overgeneralization |\n",
        "| R4 | Use of model outside intended educational purpose | High | High | Clear licensing and disclaimer in README and model card |\n",
        "| R5 | Lack of audit logging or version control | Medium | Low | Placeholder for Git-based versioning and audit trail |\n"
      ],
      "metadata": {
        "id": "OKgDXYRfihxL"
      }
    }
  ]
}
